{
 "cells": [
  {
   "cell_type": "code",
   "execution_count": 1,
   "metadata": {},
   "outputs": [],
   "source": [
    "import pandas as pd\n",
    "import numpy as np"
   ]
  },
  {
   "cell_type": "code",
   "execution_count": 2,
   "metadata": {},
   "outputs": [],
   "source": [
    "train_data = pd.read_csv(\"minor_training_data_large.csv\")\n",
    "test_data = pd.read_csv('minor_testing_data_large.csv')"
   ]
  },
  {
   "cell_type": "code",
   "execution_count": 3,
   "metadata": {},
   "outputs": [],
   "source": [
    "df = train_data.copy()\n",
    "df_test = test_data.copy()"
   ]
  },
  {
   "cell_type": "code",
   "execution_count": 4,
   "metadata": {},
   "outputs": [
    {
     "data": {
      "text/plain": [
       "bottom_lip_x       775\n",
       "bottom_lip_y       775\n",
       "chin_x             775\n",
       "chin_y             775\n",
       "left_eye_x         775\n",
       "left_eye_y         775\n",
       "left_eyebrow_x     775\n",
       "left_eyebrow_y     775\n",
       "nose_bridge_x      775\n",
       "nose_bridge_y      775\n",
       "nose_tip_x         775\n",
       "nose_tip_y         775\n",
       "right_eye_x        775\n",
       "right_eye_y        775\n",
       "right_eyebrow_x    775\n",
       "right_eyebrow_y    775\n",
       "top_lip_x          775\n",
       "top_lip_y          775\n",
       "Output               0\n",
       "dtype: int64"
      ]
     },
     "execution_count": 4,
     "metadata": {},
     "output_type": "execute_result"
    }
   ],
   "source": [
    "df.isnull().sum()"
   ]
  },
  {
   "cell_type": "code",
   "execution_count": 5,
   "metadata": {},
   "outputs": [],
   "source": [
    "df.dropna(inplace = True)"
   ]
  },
  {
   "cell_type": "code",
   "execution_count": 33,
   "metadata": {},
   "outputs": [],
   "source": [
    "df.bottom_lip_x.fillna(df.bottom_lip_x.mean(), inplace=True)\n",
    "df.bottom_lip_y.fillna(df.bottom_lip_y.mean(), inplace=True)\n",
    "df.chin_x.fillna(df.chin_x.mean(), inplace=True)\n",
    "df.chin_y.fillna(df.chin_y.mean(), inplace=True)\n",
    "df.left_eye_x.fillna(df.left_eye_x.mean(), inplace=True)\n",
    "df.left_eye_y.fillna(df.left_eye_y.mean(), inplace=True)\n",
    "df.left_eyebrow_x.fillna(df.left_eyebrow_x.mean(), inplace=True)\n",
    "df.left_eyebrow_y.fillna(df.left_eyebrow_y.mean(), inplace=True)\n",
    "df.nose_bridge_x.fillna(df.nose_bridge_x.mean(), inplace=True)\n",
    "df.nose_bridge_y.fillna(df.nose_bridge_y.mean(), inplace=True)\n",
    "df.nose_tip_x.fillna(df.nose_tip_x.mean(), inplace=True)\n",
    "df.nose_tip_y.fillna(df.nose_tip_y.mean(), inplace=True)\n",
    "df.right_eye_x.fillna(df.right_eye_x.mean(), inplace=True)\n",
    "df.right_eye_y.fillna(df.right_eye_y.mean(), inplace=True)\n",
    "df.right_eyebrow_x.fillna(df.right_eyebrow_x.mean(), inplace=True)\n",
    "df.right_eyebrow_y.fillna(df.right_eyebrow_y.mean(), inplace=True)\n",
    "df.top_lip_x.fillna(df.top_lip_x.mean(), inplace=True)\n",
    "df.top_lip_y.fillna(df.top_lip_y.mean(), inplace=True)"
   ]
  },
  {
   "cell_type": "code",
   "execution_count": 6,
   "metadata": {},
   "outputs": [],
   "source": [
    "df_test.bottom_lip_x.fillna(df.bottom_lip_x.mean(), inplace=True)\n",
    "df_test.bottom_lip_y.fillna(df.bottom_lip_y.mean(), inplace=True)\n",
    "df_test.chin_x.fillna(df.chin_x.mean(), inplace=True)\n",
    "df_test.chin_y.fillna(df.chin_y.mean(), inplace=True)\n",
    "df_test.left_eye_x.fillna(df.left_eye_x.mean(), inplace=True)\n",
    "df_test.left_eye_y.fillna(df.left_eye_y.mean(), inplace=True)\n",
    "df_test.left_eyebrow_x.fillna(df.left_eyebrow_x.mean(), inplace=True)\n",
    "df_test.left_eyebrow_y.fillna(df.left_eyebrow_y.mean(), inplace=True)\n",
    "df_test.nose_bridge_x.fillna(df.nose_bridge_x.mean(), inplace=True)\n",
    "df_test.nose_bridge_y.fillna(df.nose_bridge_y.mean(), inplace=True)\n",
    "df_test.nose_tip_x.fillna(df.nose_tip_x.mean(), inplace=True)\n",
    "df_test.nose_tip_y.fillna(df.nose_tip_y.mean(), inplace=True)\n",
    "df_test.right_eye_x.fillna(df.right_eye_x.mean(), inplace=True)\n",
    "df_test.right_eye_y.fillna(df.right_eye_y.mean(), inplace=True)\n",
    "df_test.right_eyebrow_x.fillna(df.right_eyebrow_x.mean(), inplace=True)\n",
    "df_test.right_eyebrow_y.fillna(df.right_eyebrow_y.mean(), inplace=True)\n",
    "df_test.top_lip_x.fillna(df.top_lip_x.mean(), inplace=True)\n",
    "df_test.top_lip_y.fillna(df.top_lip_y.mean(), inplace=True)"
   ]
  },
  {
   "cell_type": "code",
   "execution_count": 7,
   "metadata": {},
   "outputs": [],
   "source": [
    "# considering manhatten distances\n",
    "# eyebrows and eyes\n",
    "df[\"dist_right_eyebrow_to_right_eye\"] = abs(df.right_eyebrow_x - df.right_eye_x) + abs(df.right_eyebrow_y - df.right_eye_y)\n",
    "df[\"dist_right_eyebrow_to_left_eye\"] = abs(df.right_eyebrow_x - df.left_eye_x) + abs(df.right_eyebrow_y - df.left_eye_y)\n",
    "df[\"dist_left_eyebrow_to_right_eye\"] = abs(df.left_eyebrow_x - df.right_eye_x) + abs(df.left_eyebrow_y - df.right_eye_y)\n",
    "df[\"dist_left_eyebrow_to_left_eye\"] = abs(df.left_eyebrow_x - df.left_eye_x) + abs(df.left_eyebrow_y - df.left_eye_y)\n",
    "\n",
    "# eyebrows and nose tip\n",
    "df[\"dist_right_eyebrow_to_nose_tip\"] = abs(df.right_eyebrow_x - df.nose_tip_x) + abs(df.right_eyebrow_y - df.nose_tip_y)\n",
    "df[\"dist_left_eyebrow_to_nose_tip\"] = abs(df.left_eyebrow_x - df.nose_tip_x) + abs(df.left_eyebrow_y - df.nose_tip_y)\n",
    "\n",
    "# nose tip to lips\n",
    "df[\"dist_top_lip_to_nose_tip\"] = abs(df.top_lip_x - df.nose_tip_x) + abs(df.top_lip_y - df.nose_tip_y)\n",
    "df[\"dist_bottom_lip_to_nose_tip\"] = abs(df.bottom_lip_x - df.nose_tip_x) + abs(df.bottom_lip_y - df.nose_tip_y)\n",
    "\n",
    "# eyes to lips\n",
    "df[\"dist_top_lip_to_right_eye\"] = abs(df.top_lip_x - df.right_eye_x) + abs(df.top_lip_y - df.right_eye_y)\n",
    "df[\"dist_top_lip_to_left_eye\"] = abs(df.top_lip_x - df.left_eye_x) + abs(df.top_lip_y - df.left_eye_y)\n",
    "df[\"dist_bottom_lip_to_right_eye\"] = abs(df.bottom_lip_x - df.right_eye_x) + abs(df.bottom_lip_y - df.right_eye_y)\n",
    "df[\"dist_bottom_lip_to_left_eye\"] = abs(df.bottom_lip_x - df.left_eye_x) + abs(df.bottom_lip_y - df.left_eye_y)\n",
    "\n",
    "# left eye to right eye\n",
    "df[\"dist_left_eye_to_right_eye\"] = abs(df.left_eye_x - df.right_eye_x) + abs(df.left_eye_y - df.right_eye_y)\n",
    "\n",
    "# nose bridge and nose tip\n",
    "df[\"dist_nose_bridge_to_nose_tip\"] = abs(df.nose_bridge_x - df.nose_tip_x) + abs(df.nose_bridge_y - df.nose_tip_y)\n",
    "\n",
    "# top lip and bottom lip\n",
    "df[\"dist_top_lip_to_bottom_lip\"] = abs(df.top_lip_x - df.bottom_lip_x) + abs(df.top_lip_y - df.bottom_lip_y)\n",
    "\n",
    "# chin and bottom lip\n",
    "df[\"dist_chin_to_bottom_lip\"] = abs(df.chin_x - df.bottom_lip_x) + abs(df.chin_y - df.bottom_lip_y)\n",
    "\n",
    "# chin and top lip\n",
    "df[\"dist_chin_to_top_lip\"] = abs(df.chin_x - df.top_lip_x) + abs(df.chin_y - df.top_lip_y)"
   ]
  },
  {
   "cell_type": "code",
   "execution_count": 8,
   "metadata": {},
   "outputs": [],
   "source": [
    "# eyebrows and eyes\n",
    "df_test[\"dist_right_eyebrow_to_right_eye\"] = abs(df_test.right_eyebrow_x - df_test.right_eye_x) + abs(df_test.right_eyebrow_y - df_test.right_eye_y)\n",
    "df_test[\"dist_right_eyebrow_to_left_eye\"] = abs(df_test.right_eyebrow_x - df_test.left_eye_x) + abs(df_test.right_eyebrow_y - df_test.left_eye_y)\n",
    "df_test[\"dist_left_eyebrow_to_right_eye\"] = abs(df_test.left_eyebrow_x - df_test.right_eye_x) + abs(df_test.left_eyebrow_y - df_test.right_eye_y)\n",
    "df_test[\"dist_left_eyebrow_to_left_eye\"] = abs(df_test.left_eyebrow_x - df_test.left_eye_x) + abs(df_test.left_eyebrow_y - df_test.left_eye_y)\n",
    "\n",
    "# eyebrows and nose tip\n",
    "df_test[\"dist_right_eyebrow_to_nose_tip\"] = abs(df_test.right_eyebrow_x - df_test.nose_tip_x) + abs(df_test.right_eyebrow_y - df_test.nose_tip_y)\n",
    "df_test[\"dist_left_eyebrow_to_nose_tip\"] = abs(df_test.left_eyebrow_x - df_test.nose_tip_x) + abs(df_test.left_eyebrow_y - df_test.nose_tip_y)\n",
    "\n",
    "# nose tip to lips\n",
    "df_test[\"dist_top_lip_to_nose_tip\"] = abs(df_test.top_lip_x - df_test.nose_tip_x) + abs(df_test.top_lip_y - df_test.nose_tip_y)\n",
    "df_test[\"dist_bottom_lip_to_nose_tip\"] = abs(df_test.bottom_lip_x - df_test.nose_tip_x) + abs(df_test.bottom_lip_y - df_test.nose_tip_y)\n",
    "\n",
    "# eyes to lips\n",
    "df_test[\"dist_top_lip_to_right_eye\"] = abs(df_test.top_lip_x - df_test.right_eye_x) + abs(df_test.top_lip_y - df_test.right_eye_y)\n",
    "df_test[\"dist_top_lip_to_left_eye\"] = abs(df_test.top_lip_x - df_test.left_eye_x) + abs(df_test.top_lip_y - df_test.left_eye_y)\n",
    "df_test[\"dist_bottom_lip_to_right_eye\"] = abs(df_test.bottom_lip_x - df_test.right_eye_x) + abs(df_test.bottom_lip_y - df_test.right_eye_y)\n",
    "df_test[\"dist_bottom_lip_to_left_eye\"] = abs(df_test.bottom_lip_x - df_test.left_eye_x) + abs(df_test.bottom_lip_y - df_test.left_eye_y)\n",
    "\n",
    "# left eye to right eye\n",
    "df_test[\"dist_left_eye_to_right_eye\"] = abs(df_test.left_eye_x - df_test.right_eye_x) + abs(df_test.left_eye_y - df_test.right_eye_y)\n",
    "\n",
    "# nose bridge and nose tip\n",
    "df_test[\"dist_nose_bridge_to_nose_tip\"] = abs(df_test.nose_bridge_x - df_test.nose_tip_x) + abs(df_test.nose_bridge_y - df_test.nose_tip_y)\n",
    "\n",
    "# top lip and bottom lip\n",
    "df_test[\"dist_top_lip_to_bottom_lip\"] = abs(df_test.top_lip_x - df_test.bottom_lip_x) + abs(df_test.top_lip_y - df_test.bottom_lip_y)\n",
    "\n",
    "# chin and bottom lip\n",
    "df_test[\"dist_chin_to_bottom_lip\"] = abs(df_test.chin_x - df_test.bottom_lip_x) + abs(df_test.chin_y - df_test.bottom_lip_y)\n",
    "\n",
    "# chin and top lip\n",
    "df_test[\"dist_chin_to_top_lip\"] = abs(df_test.chin_x - df_test.top_lip_x) + abs(df_test.chin_y - df_test.top_lip_y)"
   ]
  },
  {
   "cell_type": "code",
   "execution_count": 9,
   "metadata": {},
   "outputs": [],
   "source": [
    "df[\"gender\"] = df.Output\n",
    "del df[\"Output\"]"
   ]
  },
  {
   "cell_type": "code",
   "execution_count": 10,
   "metadata": {},
   "outputs": [
    {
     "data": {
      "text/plain": [
       "(26225, 36)"
      ]
     },
     "execution_count": 10,
     "metadata": {},
     "output_type": "execute_result"
    }
   ],
   "source": [
    "df.shape"
   ]
  },
  {
   "cell_type": "code",
   "execution_count": 11,
   "metadata": {},
   "outputs": [
    {
     "data": {
      "text/html": [
       "<div>\n",
       "<style scoped>\n",
       "    .dataframe tbody tr th:only-of-type {\n",
       "        vertical-align: middle;\n",
       "    }\n",
       "\n",
       "    .dataframe tbody tr th {\n",
       "        vertical-align: top;\n",
       "    }\n",
       "\n",
       "    .dataframe thead th {\n",
       "        text-align: right;\n",
       "    }\n",
       "</style>\n",
       "<table border=\"1\" class=\"dataframe\">\n",
       "  <thead>\n",
       "    <tr style=\"text-align: right;\">\n",
       "      <th></th>\n",
       "      <th>bottom_lip_x</th>\n",
       "      <th>bottom_lip_y</th>\n",
       "      <th>chin_x</th>\n",
       "      <th>chin_y</th>\n",
       "      <th>left_eye_x</th>\n",
       "      <th>left_eye_y</th>\n",
       "      <th>left_eyebrow_x</th>\n",
       "      <th>left_eyebrow_y</th>\n",
       "      <th>nose_bridge_x</th>\n",
       "      <th>nose_bridge_y</th>\n",
       "      <th>...</th>\n",
       "      <th>dist_top_lip_to_right_eye</th>\n",
       "      <th>dist_top_lip_to_left_eye</th>\n",
       "      <th>dist_bottom_lip_to_right_eye</th>\n",
       "      <th>dist_bottom_lip_to_left_eye</th>\n",
       "      <th>dist_left_eye_to_right_eye</th>\n",
       "      <th>dist_nose_bridge_to_nose_tip</th>\n",
       "      <th>dist_top_lip_to_bottom_lip</th>\n",
       "      <th>dist_chin_to_bottom_lip</th>\n",
       "      <th>dist_chin_to_top_lip</th>\n",
       "      <th>gender</th>\n",
       "    </tr>\n",
       "  </thead>\n",
       "  <tbody>\n",
       "    <tr>\n",
       "      <th>0</th>\n",
       "      <td>85.583333</td>\n",
       "      <td>160.583333</td>\n",
       "      <td>96.529412</td>\n",
       "      <td>153.117647</td>\n",
       "      <td>68.833333</td>\n",
       "      <td>111.000000</td>\n",
       "      <td>65.2</td>\n",
       "      <td>99.2</td>\n",
       "      <td>78.75</td>\n",
       "      <td>127.50</td>\n",
       "      <td>...</td>\n",
       "      <td>58.500000</td>\n",
       "      <td>59.333333</td>\n",
       "      <td>65.000000</td>\n",
       "      <td>66.333333</td>\n",
       "      <td>41.166667</td>\n",
       "      <td>19.35</td>\n",
       "      <td>7.000000</td>\n",
       "      <td>18.411765</td>\n",
       "      <td>11.911765</td>\n",
       "      <td>0</td>\n",
       "    </tr>\n",
       "    <tr>\n",
       "      <th>1</th>\n",
       "      <td>85.500000</td>\n",
       "      <td>160.083333</td>\n",
       "      <td>94.294118</td>\n",
       "      <td>154.470588</td>\n",
       "      <td>68.833333</td>\n",
       "      <td>112.000000</td>\n",
       "      <td>67.0</td>\n",
       "      <td>101.6</td>\n",
       "      <td>82.00</td>\n",
       "      <td>123.50</td>\n",
       "      <td>...</td>\n",
       "      <td>59.083333</td>\n",
       "      <td>56.083333</td>\n",
       "      <td>67.750000</td>\n",
       "      <td>64.750000</td>\n",
       "      <td>40.000000</td>\n",
       "      <td>17.90</td>\n",
       "      <td>8.666667</td>\n",
       "      <td>14.406863</td>\n",
       "      <td>11.848039</td>\n",
       "      <td>0</td>\n",
       "    </tr>\n",
       "    <tr>\n",
       "      <th>4</th>\n",
       "      <td>87.583333</td>\n",
       "      <td>152.583333</td>\n",
       "      <td>92.000000</td>\n",
       "      <td>158.470588</td>\n",
       "      <td>65.666667</td>\n",
       "      <td>114.833333</td>\n",
       "      <td>60.4</td>\n",
       "      <td>96.8</td>\n",
       "      <td>86.75</td>\n",
       "      <td>111.75</td>\n",
       "      <td>...</td>\n",
       "      <td>56.666667</td>\n",
       "      <td>53.166667</td>\n",
       "      <td>62.833333</td>\n",
       "      <td>59.666667</td>\n",
       "      <td>47.000000</td>\n",
       "      <td>19.50</td>\n",
       "      <td>6.500000</td>\n",
       "      <td>10.303922</td>\n",
       "      <td>16.803922</td>\n",
       "      <td>0</td>\n",
       "    </tr>\n",
       "    <tr>\n",
       "      <th>5</th>\n",
       "      <td>90.333333</td>\n",
       "      <td>159.250000</td>\n",
       "      <td>82.411765</td>\n",
       "      <td>149.647059</td>\n",
       "      <td>70.333333</td>\n",
       "      <td>112.833333</td>\n",
       "      <td>66.8</td>\n",
       "      <td>98.4</td>\n",
       "      <td>92.50</td>\n",
       "      <td>120.25</td>\n",
       "      <td>...</td>\n",
       "      <td>55.750000</td>\n",
       "      <td>59.250000</td>\n",
       "      <td>62.916667</td>\n",
       "      <td>66.416667</td>\n",
       "      <td>36.500000</td>\n",
       "      <td>18.05</td>\n",
       "      <td>7.166667</td>\n",
       "      <td>17.524510</td>\n",
       "      <td>10.357843</td>\n",
       "      <td>0</td>\n",
       "    </tr>\n",
       "    <tr>\n",
       "      <th>6</th>\n",
       "      <td>88.000000</td>\n",
       "      <td>157.083333</td>\n",
       "      <td>90.176471</td>\n",
       "      <td>150.647059</td>\n",
       "      <td>68.500000</td>\n",
       "      <td>113.666667</td>\n",
       "      <td>63.8</td>\n",
       "      <td>102.0</td>\n",
       "      <td>85.50</td>\n",
       "      <td>124.00</td>\n",
       "      <td>...</td>\n",
       "      <td>60.000000</td>\n",
       "      <td>58.833333</td>\n",
       "      <td>64.083333</td>\n",
       "      <td>62.916667</td>\n",
       "      <td>40.166667</td>\n",
       "      <td>17.90</td>\n",
       "      <td>4.083333</td>\n",
       "      <td>8.612745</td>\n",
       "      <td>4.529412</td>\n",
       "      <td>1</td>\n",
       "    </tr>\n",
       "  </tbody>\n",
       "</table>\n",
       "<p>5 rows × 36 columns</p>\n",
       "</div>"
      ],
      "text/plain": [
       "   bottom_lip_x  bottom_lip_y     chin_x      chin_y  left_eye_x  left_eye_y  \\\n",
       "0     85.583333    160.583333  96.529412  153.117647   68.833333  111.000000   \n",
       "1     85.500000    160.083333  94.294118  154.470588   68.833333  112.000000   \n",
       "4     87.583333    152.583333  92.000000  158.470588   65.666667  114.833333   \n",
       "5     90.333333    159.250000  82.411765  149.647059   70.333333  112.833333   \n",
       "6     88.000000    157.083333  90.176471  150.647059   68.500000  113.666667   \n",
       "\n",
       "   left_eyebrow_x  left_eyebrow_y  nose_bridge_x  nose_bridge_y   ...    \\\n",
       "0            65.2            99.2          78.75         127.50   ...     \n",
       "1            67.0           101.6          82.00         123.50   ...     \n",
       "4            60.4            96.8          86.75         111.75   ...     \n",
       "5            66.8            98.4          92.50         120.25   ...     \n",
       "6            63.8           102.0          85.50         124.00   ...     \n",
       "\n",
       "   dist_top_lip_to_right_eye  dist_top_lip_to_left_eye  \\\n",
       "0                  58.500000                 59.333333   \n",
       "1                  59.083333                 56.083333   \n",
       "4                  56.666667                 53.166667   \n",
       "5                  55.750000                 59.250000   \n",
       "6                  60.000000                 58.833333   \n",
       "\n",
       "   dist_bottom_lip_to_right_eye  dist_bottom_lip_to_left_eye  \\\n",
       "0                     65.000000                    66.333333   \n",
       "1                     67.750000                    64.750000   \n",
       "4                     62.833333                    59.666667   \n",
       "5                     62.916667                    66.416667   \n",
       "6                     64.083333                    62.916667   \n",
       "\n",
       "   dist_left_eye_to_right_eye  dist_nose_bridge_to_nose_tip  \\\n",
       "0                   41.166667                         19.35   \n",
       "1                   40.000000                         17.90   \n",
       "4                   47.000000                         19.50   \n",
       "5                   36.500000                         18.05   \n",
       "6                   40.166667                         17.90   \n",
       "\n",
       "   dist_top_lip_to_bottom_lip  dist_chin_to_bottom_lip  dist_chin_to_top_lip  \\\n",
       "0                    7.000000                18.411765             11.911765   \n",
       "1                    8.666667                14.406863             11.848039   \n",
       "4                    6.500000                10.303922             16.803922   \n",
       "5                    7.166667                17.524510             10.357843   \n",
       "6                    4.083333                 8.612745              4.529412   \n",
       "\n",
       "   gender  \n",
       "0       0  \n",
       "1       0  \n",
       "4       0  \n",
       "5       0  \n",
       "6       1  \n",
       "\n",
       "[5 rows x 36 columns]"
      ]
     },
     "execution_count": 11,
     "metadata": {},
     "output_type": "execute_result"
    }
   ],
   "source": [
    "df.head()"
   ]
  },
  {
   "cell_type": "code",
   "execution_count": 12,
   "metadata": {},
   "outputs": [
    {
     "data": {
      "text/plain": [
       "(26225, 35)"
      ]
     },
     "execution_count": 12,
     "metadata": {},
     "output_type": "execute_result"
    }
   ],
   "source": [
    "X = df.iloc[:, :35]\n",
    "X.shape"
   ]
  },
  {
   "cell_type": "code",
   "execution_count": 13,
   "metadata": {},
   "outputs": [
    {
     "data": {
      "text/plain": [
       "(26225,)"
      ]
     },
     "execution_count": 13,
     "metadata": {},
     "output_type": "execute_result"
    }
   ],
   "source": [
    "Y = df.iloc[:, 35]\n",
    "Y.shape"
   ]
  },
  {
   "cell_type": "code",
   "execution_count": 14,
   "metadata": {},
   "outputs": [],
   "source": [
    "# import KNN classifier\n",
    "from sklearn.neighbors import KNeighborsClassifier"
   ]
  },
  {
   "cell_type": "code",
   "execution_count": 36,
   "metadata": {},
   "outputs": [],
   "source": [
    "clf = KNeighborsClassifier(n_neighbors=15)"
   ]
  },
  {
   "cell_type": "code",
   "execution_count": 37,
   "metadata": {},
   "outputs": [
    {
     "data": {
      "text/plain": [
       "KNeighborsClassifier(algorithm='auto', leaf_size=30, metric='minkowski',\n",
       "           metric_params=None, n_jobs=1, n_neighbors=15, p=2,\n",
       "           weights='uniform')"
      ]
     },
     "execution_count": 37,
     "metadata": {},
     "output_type": "execute_result"
    }
   ],
   "source": [
    "clf.fit(X, Y)"
   ]
  },
  {
   "cell_type": "code",
   "execution_count": 38,
   "metadata": {},
   "outputs": [
    {
     "data": {
      "text/plain": [
       "(10000,)"
      ]
     },
     "execution_count": 38,
     "metadata": {},
     "output_type": "execute_result"
    }
   ],
   "source": [
    "pred = clf.predict(df_test)\n",
    "pred.shape"
   ]
  },
  {
   "cell_type": "code",
   "execution_count": 39,
   "metadata": {},
   "outputs": [],
   "source": [
    "np.savetxt(\"minor_gender_with_KNN.csv\", pred, fmt = \"%d\", delimiter=\",\")"
   ]
  },
  {
   "cell_type": "code",
   "execution_count": 40,
   "metadata": {},
   "outputs": [
    {
     "data": {
      "text/plain": [
       "(10000,)"
      ]
     },
     "execution_count": 40,
     "metadata": {},
     "output_type": "execute_result"
    }
   ],
   "source": [
    "Y_test = pd.read_csv('Minor_test_output.csv')\n",
    "test = Y_test.iloc[:, 0]\n",
    "test.shape"
   ]
  },
  {
   "cell_type": "code",
   "execution_count": 41,
   "metadata": {},
   "outputs": [
    {
     "data": {
      "text/plain": [
       "0.7616"
      ]
     },
     "execution_count": 41,
     "metadata": {},
     "output_type": "execute_result"
    }
   ],
   "source": [
    "clf.score(df_test, test)"
   ]
  },
  {
   "cell_type": "code",
   "execution_count": 21,
   "metadata": {},
   "outputs": [
    {
     "data": {
      "text/plain": [
       "{0, 1}"
      ]
     },
     "execution_count": 21,
     "metadata": {},
     "output_type": "execute_result"
    }
   ],
   "source": [
    "set(Y)"
   ]
  },
  {
   "cell_type": "code",
   "execution_count": 25,
   "metadata": {},
   "outputs": [
    {
     "name": "stdout",
     "output_type": "stream",
     "text": [
      "1 0.7066540788916434\n",
      "3 0.7385701154083528\n",
      "5 0.7521830845384665\n",
      "7 0.7609915171280575\n",
      "9 0.7633174706708602\n",
      "11 0.7642707842393573\n",
      "13 0.764690263322605\n",
      "15 0.7674737867886433\n",
      "17 0.7673975440376918\n",
      "19 0.7668636048593408\n",
      "21 0.7671686631073978\n",
      "23 0.7667110800975246\n",
      "25 0.7665966461756967\n",
      "27 0.7670923549232581\n",
      "29 0.7672067539473858\n",
      "31 0.7667873010374135\n",
      "33 0.7662916010142773\n",
      "35 0.7652620359704033\n",
      "37 0.7644232130324973\n",
      "39 0.7640037601225251\n",
      "41 0.7628979741387624\n"
     ]
    }
   ],
   "source": [
    "x_axis = []\n",
    "y_axis = []\n",
    "from sklearn.model_selection import cross_val_score\n",
    "from sklearn.model_selection import KFold\n",
    "for i in range(1, 42 , 2):\n",
    "    clf = KNeighborsClassifier(n_neighbors = i)\n",
    "    score = cross_val_score(clf, X, Y)\n",
    "    #print(i)\n",
    "    x_axis.append(i)\n",
    "    y_axis.append(score.mean())\n",
    "    print(i, score.mean())"
   ]
  },
  {
   "cell_type": "code",
   "execution_count": 42,
   "metadata": {},
   "outputs": [
    {
     "data": {
      "image/png": "[encoded data removed]",
      "text/plain": [
       "<Figure size 432x288 with 1 Axes>"
      ]
     },
     "metadata": {},
     "output_type": "display_data"
    }
   ],
   "source": [
    "# plot the graph\n",
    "from matplotlib import pyplot as plt\n",
    "plt.plot(x_axis, y_axis)\n",
    "plt.show()"
   ]
  },
  {
   "cell_type": "code",
   "execution_count": 43,
   "metadata": {},
   "outputs": [],
   "source": [
    "from sklearn.svm import SVC"
   ]
  },
  {
   "cell_type": "code",
   "execution_count": 44,
   "metadata": {},
   "outputs": [],
   "source": [
    "SVCLinear = SVC(kernel='linear', C = 100000).fit(X,Y)"
   ]
  },
  {
   "cell_type": "code",
   "execution_count": 45,
   "metadata": {},
   "outputs": [
    {
     "data": {
      "text/plain": [
       "(10000,)"
      ]
     },
     "execution_count": 45,
     "metadata": {},
     "output_type": "execute_result"
    }
   ],
   "source": [
    "pred_svm = SVCLinear.predict(df_test)\n",
    "pred_svm.shape"
   ]
  },
  {
   "cell_type": "code",
   "execution_count": 46,
   "metadata": {},
   "outputs": [
    {
     "data": {
      "text/plain": [
       "0.7783"
      ]
     },
     "execution_count": 46,
     "metadata": {},
     "output_type": "execute_result"
    }
   ],
   "source": [
    "SVCLinear.score(df_test, test)"
   ]
  },
  {
   "cell_type": "code",
   "execution_count": 47,
   "metadata": {},
   "outputs": [],
   "source": [
    "from sklearn.tree import DecisionTreeClassifier"
   ]
  },
  {
   "cell_type": "code",
   "execution_count": 48,
   "metadata": {},
   "outputs": [],
   "source": [
    "clf_dt = DecisionTreeClassifier()"
   ]
  },
  {
   "cell_type": "code",
   "execution_count": 49,
   "metadata": {},
   "outputs": [
    {
     "data": {
      "text/plain": [
       "DecisionTreeClassifier(class_weight=None, criterion='gini', max_depth=None,\n",
       "            max_features=None, max_leaf_nodes=None,\n",
       "            min_impurity_decrease=0.0, min_impurity_split=None,\n",
       "            min_samples_leaf=1, min_samples_split=2,\n",
       "            min_weight_fraction_leaf=0.0, presort=False, random_state=None,\n",
       "            splitter='best')"
      ]
     },
     "execution_count": 49,
     "metadata": {},
     "output_type": "execute_result"
    }
   ],
   "source": [
    "clf_dt.fit(X, Y)"
   ]
  },
  {
   "cell_type": "code",
   "execution_count": 50,
   "metadata": {},
   "outputs": [
    {
     "data": {
      "text/plain": [
       "(10000,)"
      ]
     },
     "execution_count": 50,
     "metadata": {},
     "output_type": "execute_result"
    }
   ],
   "source": [
    "pred_dt = clf_dt.predict(df_test)\n",
    "pred_dt.shape"
   ]
  },
  {
   "cell_type": "code",
   "execution_count": 51,
   "metadata": {},
   "outputs": [
    {
     "data": {
      "text/plain": [
       "0.6912"
      ]
     },
     "execution_count": 51,
     "metadata": {},
     "output_type": "execute_result"
    }
   ],
   "source": [
    "clf_dt.score(df_test, test)"
   ]
  },
  {
   "cell_type": "code",
   "execution_count": 55,
   "metadata": {},
   "outputs": [],
   "source": [
    "from sklearn.neural_network import MLPClassifier"
   ]
  },
  {
   "cell_type": "code",
   "execution_count": 105,
   "metadata": {},
   "outputs": [],
   "source": [
    "clf_mlp = MLPClassifier(solver='adam', alpha=1e-5, hidden_layer_sizes=(400, 7000), random_state=1)"
   ]
  },
  {
   "cell_type": "code",
   "execution_count": 106,
   "metadata": {},
   "outputs": [
    {
     "data": {
      "text/plain": [
       "MLPClassifier(activation='relu', alpha=1e-05, batch_size='auto', beta_1=0.9,\n",
       "       beta_2=0.999, early_stopping=False, epsilon=1e-08,\n",
       "       hidden_layer_sizes=(400, 7000), learning_rate='constant',\n",
       "       learning_rate_init=0.001, max_iter=200, momentum=0.9,\n",
       "       nesterovs_momentum=True, power_t=0.5, random_state=1, shuffle=True,\n",
       "       solver='adam', tol=0.0001, validation_fraction=0.1, verbose=False,\n",
       "       warm_start=False)"
      ]
     },
     "execution_count": 106,
     "metadata": {},
     "output_type": "execute_result"
    }
   ],
   "source": [
    "clf_mlp.fit(X,Y)"
   ]
  },
  {
   "cell_type": "code",
   "execution_count": 1,
   "metadata": {},
   "outputs": [
    {
     "ename": "NameError",
     "evalue": "name 'clf_mlp' is not defined",
     "output_type": "error",
     "traceback": [
      "\u001b[1;31m---------------------------------------------------------------------------\u001b[0m",
      "\u001b[1;31mNameError\u001b[0m                                 Traceback (most recent call last)",
      "\u001b[1;32m<ipython-input-1-b39e79708faa>\u001b[0m in \u001b[0;36m<module>\u001b[1;34m()\u001b[0m\n\u001b[1;32m----> 1\u001b[1;33m \u001b[0mpred_mlp\u001b[0m \u001b[1;33m=\u001b[0m \u001b[0mclf_mlp\u001b[0m\u001b[1;33m.\u001b[0m\u001b[0mpredict\u001b[0m\u001b[1;33m(\u001b[0m\u001b[0mdf_test\u001b[0m\u001b[1;33m)\u001b[0m\u001b[1;33m\u001b[0m\u001b[0m\n\u001b[0m",
      "\u001b[1;31mNameError\u001b[0m: name 'clf_mlp' is not defined"
     ]
    }
   ],
   "source": [
    "pred_mlp = clf_mlp.predict(df_test)"
   ]
  },
  {
   "cell_type": "code",
   "execution_count": null,
   "metadata": {},
   "outputs": [],
   "source": [
    "clf_mlp.score(df_test, test)"
   ]
  }
 ],
 "metadata": {
  "kernelspec": {
   "display_name": "Python 3",
   "language": "python",
   "name": "python3"
  },
  "language_info": {
   "codemirror_mode": {
    "name": "ipython",
    "version": 3
   },
   "file_extension": ".py",
   "mimetype": "text/x-python",
   "name": "python",
   "nbconvert_exporter": "python",
   "pygments_lexer": "ipython3",
   "version": "3.6.5"
  }
 },
 "nbformat": 4,
 "nbformat_minor": 2
}

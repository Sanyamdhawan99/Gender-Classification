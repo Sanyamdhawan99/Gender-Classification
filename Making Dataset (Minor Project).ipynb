{
 "cells": [
  {
   "cell_type": "code",
   "execution_count": 1,
   "metadata": {},
   "outputs": [],
   "source": [
    "from PIL import Image, ImageDraw\n",
    "import face_recognition"
   ]
  },
  {
   "cell_type": "code",
   "execution_count": 2,
   "metadata": {},
   "outputs": [],
   "source": [
    "import pandas as pd\n",
    "df=pd.DataFrame()"
   ]
  },
  {
   "cell_type": "code",
   "execution_count": 3,
   "metadata": {},
   "outputs": [
    {
     "name": "stdout",
     "output_type": "stream",
     "text": [
      "0\n",
      "1\n"
     ]
    }
   ],
   "source": [
    "import os, glob, csv\n",
    "\n",
    "path = 'E:\\Minor Project\\Single Image Test'\n",
    "x_f1 = [\"bottom_lip_x\"]\n",
    "y_f1 = [\"bottom_lip_y\"]\n",
    "x_f2 = [\"chin_x\"]\n",
    "y_f2 = [\"chin_y\"]\n",
    "x_f3 = [\"left_eye_x\"]\n",
    "y_f3 = [\"left_eye_y\"]\n",
    "x_f4 = [\"left_eyebrow_x\"]\n",
    "y_f4 = [\"left_eyebrow_y\"]\n",
    "x_f5 = [\"nose_bridge_x\"]\n",
    "y_f5 = [\"nose_bridge_y\"]\n",
    "x_f6 = [\"nose_tip_x\"]\n",
    "y_f6 = [\"nose_tip_y\"]\n",
    "x_f7 = [\"right_eye_x\"]\n",
    "y_f7 = [\"right_eye_y\"]\n",
    "x_f8 = [\"right_eyebrow_x\"]\n",
    "y_f8 = [\"right_eyebrow_y\"]\n",
    "x_f9 = [\"top_lip_x\"]\n",
    "y_f9 = [\"top_lip_y\"]\n",
    "count = 0\n",
    "for infile in glob.glob( os.path.join(path, '*.jpg') ):\n",
    "    print(count)\n",
    "    count = count + 1\n",
    "    image = face_recognition.load_image_file(infile)\n",
    "    face_locations = face_recognition.face_locations(image)\n",
    "    #print(\"face_locations \", face_locations)\n",
    "    face_landmarks_list = face_recognition.face_landmarks(image)\n",
    "    #print(face_landmarks_list)\n",
    "    if(len(face_landmarks_list)) > 0:\n",
    "        #print(\"feature print\",face_landmarks_list[0].keys())\n",
    "        itr = 0\n",
    "        keys = sorted(face_landmarks_list[0].keys())\n",
    "        for key in keys:\n",
    "            #print(\"key: \",key)\n",
    "            #print(\"length \", len(key))\n",
    "            sum_x = 0\n",
    "            sum_y = 0\n",
    "            for index in range(len(face_landmarks_list[0][key])):\n",
    "                # find sum of squares\n",
    "                sum_x += (face_landmarks_list[0][key][index][0])\n",
    "                sum_y += (face_landmarks_list[0][key][index][1])\n",
    "            #print(sum_x, \" \", sum_y)\n",
    "            avg_x = sum_x / len(face_landmarks_list[0][key])\n",
    "            avg_y = sum_y / len(face_landmarks_list[0][key])\n",
    "            #print(avg_x, \" \" ,avg_y)\n",
    "            if itr == 0:\n",
    "                x_f1.append(avg_x)\n",
    "                y_f1.append(avg_y)\n",
    "            elif itr == 1:\n",
    "                x_f2.append(avg_x)\n",
    "                y_f2.append(avg_y)\n",
    "            elif itr == 2:\n",
    "                x_f3.append(avg_x)\n",
    "                y_f3.append(avg_y)\n",
    "            elif itr == 3:\n",
    "                x_f4.append(avg_x)\n",
    "                y_f4.append(avg_y)\n",
    "            elif itr == 4:\n",
    "                x_f5.append(avg_x)\n",
    "                y_f5.append(avg_y)\n",
    "            elif itr == 5:\n",
    "                x_f6.append(avg_x)\n",
    "                y_f6.append(avg_y)\n",
    "            elif itr == 6:\n",
    "                x_f7.append(avg_x)\n",
    "                y_f7.append(avg_y)\n",
    "            elif itr == 7:\n",
    "                x_f8.append(avg_x)\n",
    "                y_f8.append(avg_y)\n",
    "            elif itr == 8:\n",
    "                x_f9.append(avg_x)\n",
    "                y_f9.append(avg_y)\n",
    "            itr += 1\n",
    "            #print(\"----------------------\")\n",
    "    else:\n",
    "        x_f1.append('')\n",
    "        x_f2.append('')\n",
    "        x_f3.append('')\n",
    "        x_f4.append('')\n",
    "        x_f5.append('')\n",
    "        x_f6.append('')\n",
    "        x_f7.append('')\n",
    "        x_f8.append('')\n",
    "        x_f9.append('')\n",
    "        y_f1.append('')\n",
    "        y_f2.append('')\n",
    "        y_f3.append('')\n",
    "        y_f4.append('')\n",
    "        y_f5.append('')\n",
    "        y_f6.append('')\n",
    "        y_f7.append('')\n",
    "        y_f8.append('')\n",
    "        y_f9.append('')"
   ]
  },
  {
   "cell_type": "code",
   "execution_count": 4,
   "metadata": {},
   "outputs": [
    {
     "name": "stdout",
     "output_type": "stream",
     "text": [
      "['bottom_lip_x', 1332.6666666666667, '']\n",
      "['bottom_lip_y', 276.0, '']\n",
      "['chin_y', 269.88235294117646, '']\n",
      "['left_eye_x', 1332.6666666666667, '']\n",
      "['left_eye_y', 235.33333333333334, '']\n",
      "['left_eyebrow_x', 1335.4, '']\n",
      "['left_eyebrow_y', 223.8, '']\n",
      "['nose_bridge_x', 1339.0, '']\n",
      "['nose_bridge_y', 246.5, '']\n",
      "['nose_tip_x', 1336.0, '']\n",
      "['nose_tip_y', 262.4, '']\n",
      "['right_eye_x', 1361.0, '']\n",
      "['chin_x', 1344.0588235294117, '']\n",
      "['right_eye_y', 243.66666666666666, '']\n",
      "['right_eyebrow_x', 1363.4, '']\n",
      "['right_eyebrow_y', 233.2, '']\n",
      "['top_lip_x', 1333.6666666666667, '']\n",
      "['top_lip_y', 273.4166666666667, '']\n"
     ]
    }
   ],
   "source": [
    "print(x_f1)\n",
    "print(y_f1)\n",
    "print(y_f2)\n",
    "print(x_f3)\n",
    "print(y_f3)\n",
    "print(x_f4)\n",
    "print(y_f4)\n",
    "print(x_f5)\n",
    "print(y_f5)\n",
    "print(x_f6)\n",
    "print(y_f6)\n",
    "print(x_f7)\n",
    "print(x_f2)\n",
    "print(y_f7)\n",
    "print(x_f8)\n",
    "print(y_f8)\n",
    "print(x_f9)\n",
    "print(y_f9)"
   ]
  },
  {
   "cell_type": "code",
   "execution_count": 5,
   "metadata": {},
   "outputs": [],
   "source": [
    "rows = zip(x_f1, y_f1, x_f2, y_f2, x_f3, y_f3, x_f4, y_f4, x_f5, y_f5, x_f6, y_f6, x_f7, y_f7, x_f8, y_f8, x_f9, y_f9)\n",
    "with open(\"minor_single_image_testing.csv\", \"w\", newline='') as f:\n",
    "    writer = csv.writer(f)\n",
    "    for row in rows:\n",
    "        writer.writerow(row)"
   ]
  },
  {
   "cell_type": "code",
   "execution_count": null,
   "metadata": {},
   "outputs": [],
   "source": []
  },
  {
   "cell_type": "code",
   "execution_count": null,
   "metadata": {},
   "outputs": [],
   "source": []
  }
 ],
 "metadata": {
  "kernelspec": {
   "display_name": "Python 3",
   "language": "python",
   "name": "python3"
  },
  "language_info": {
   "codemirror_mode": {
    "name": "ipython",
    "version": 3
   },
   "file_extension": ".py",
   "mimetype": "text/x-python",
   "name": "python",
   "nbconvert_exporter": "python",
   "pygments_lexer": "ipython3",
   "version": "3.6.5"
  }
 },
 "nbformat": 4,
 "nbformat_minor": 2
}

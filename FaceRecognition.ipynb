{
 "cells": [
  {
   "cell_type": "code",
   "execution_count": 1,
   "metadata": {},
   "outputs": [],
   "source": [
    "from PIL import Image, ImageDraw\n",
    "import face_recognition"
   ]
  },
  {
   "cell_type": "code",
   "execution_count": 2,
   "metadata": {},
   "outputs": [
    {
     "data": {
      "text/plain": [
       "[(86, 135, 176, 46)]"
      ]
     },
     "execution_count": 2,
     "metadata": {},
     "output_type": "execute_result"
    }
   ],
   "source": [
    "# find face locations\n",
    "image = face_recognition.load_image_file(\"E://Minor Project//Final Dataset//img_align_celeba//000001.jpg\")\n",
    "face_locations = face_recognition.face_locations(image)\n",
    "face_locations"
   ]
  },
  {
   "cell_type": "code",
   "execution_count": 5,
   "metadata": {},
   "outputs": [
    {
     "name": "stdout",
     "output_type": "stream",
     "text": [
      "[{'chin': [(59, 113), (58, 122), (58, 132), (61, 142), (65, 152), (69, 161), (73, 172), (77, 182), (85, 186), (96, 186), (109, 181), (121, 174), (132, 165), (140, 154), (144, 141), (146, 127), (148, 113)], 'left_eyebrow': [(57, 98), (60, 95), (65, 97), (70, 101), (74, 105)], 'right_eyebrow': [(90, 105), (100, 103), (109, 102), (119, 103), (127, 107)], 'nose_bridge': [(81, 114), (80, 123), (78, 132), (76, 141)], 'nose_tip': [(72, 143), (75, 146), (79, 148), (84, 147), (89, 145)], 'left_eye': [(62, 110), (66, 107), (72, 108), (77, 114), (71, 114), (65, 113)], 'right_eye': [(97, 117), (102, 112), (109, 112), (114, 116), (109, 118), (102, 118)], 'top_lip': [(71, 151), (74, 152), (78, 152), (82, 154), (87, 153), (97, 154), (109, 155), (106, 156), (87, 156), (82, 156), (78, 154), (73, 153)], 'bottom_lip': [(109, 155), (98, 165), (88, 168), (82, 168), (78, 166), (74, 160), (71, 151), (73, 153), (78, 160), (82, 162), (88, 163), (106, 156)]}]\n",
      "9\n"
     ]
    }
   ],
   "source": [
    "# face landmarks --> set\n",
    "face_landmarks_list = face_recognition.face_landmarks(image)\n",
    "print(face_landmarks_list)\n",
    "print(len(face_landmarks_list[0]))"
   ]
  },
  {
   "cell_type": "code",
   "execution_count": 6,
   "metadata": {},
   "outputs": [],
   "source": [
    "# manipulating face landmarks to display the face\n",
    "for face_landmarks in face_landmarks_list:\n",
    "    pil_image = Image.fromarray(image)\n",
    "    d = ImageDraw.Draw(pil_image, 'RGBA')\n",
    "\n",
    "    # eyebrows\n",
    "    d.polygon(face_landmarks['left_eyebrow'], fill=(0, 0, 0, 500))\n",
    "    d.polygon(face_landmarks['right_eyebrow'], fill=(0, 0, 0, 500))\n",
    "    d.line(face_landmarks['left_eyebrow'], fill=(0, 0, 0, 500), width=5)\n",
    "    d.line(face_landmarks['right_eyebrow'],fill=(0, 0, 0, 500), width=5)\n",
    "\n",
    "    # lips\n",
    "    d.polygon(face_landmarks['top_lip'], fill=(0, 0, 0, 500))\n",
    "    d.polygon(face_landmarks['bottom_lip'], fill=(0, 0, 0, 500))\n",
    "    d.line(face_landmarks['top_lip'], fill=(0, 0, 0, 500), width=5)\n",
    "    d.line(face_landmarks['bottom_lip'], fill=(0, 0, 0, 500), width=5)\n",
    "\n",
    "    # eyes\n",
    "    d.polygon(face_landmarks['left_eye'], fill=(250, 0, 0, 1000))\n",
    "    d.polygon(face_landmarks['right_eye'], fill=(250, 0, 0, 1000))\n",
    "\n",
    "    # eyeliner\n",
    "    d.line(face_landmarks['left_eye'] + [face_landmarks['left_eye'][0]], fill=(0, 0, 0, 500), width=5)\n",
    "    d.line(face_landmarks['right_eye'] + [face_landmarks['right_eye'][0]], fill=(0, 0, 0, 500), width=5)\n",
    "    \n",
    "    pil_image.show()"
   ]
  },
  {
   "cell_type": "code",
   "execution_count": 11,
   "metadata": {},
   "outputs": [
    {
     "data": {
      "text/plain": [
       "[True]"
      ]
     },
     "execution_count": 11,
     "metadata": {},
     "output_type": "execute_result"
    }
   ],
   "source": [
    "# matches 2 images --> true if they are same, else false\n",
    "# finding images of same persons\n",
    "known_image = face_recognition.load_image_file(\"1.jpg\")\n",
    "unknown_image = face_recognition.load_image_file(\"3.jpg\")\n",
    "\n",
    "known_encoding = face_recognition.face_encodings(known_image)[0]\n",
    "unknown_encoding = face_recognition.face_encodings(unknown_image)[0]\n",
    "\n",
    "results = face_recognition.compare_faces([known_encoding], unknown_encoding)\n",
    "results"
   ]
  }
 ],
 "metadata": {
  "kernelspec": {
   "display_name": "Python 3",
   "language": "python",
   "name": "python3"
  },
  "language_info": {
   "codemirror_mode": {
    "name": "ipython",
    "version": 3
   },
   "file_extension": ".py",
   "mimetype": "text/x-python",
   "name": "python",
   "nbconvert_exporter": "python",
   "pygments_lexer": "ipython3",
   "version": "3.6.5"
  }
 },
 "nbformat": 4,
 "nbformat_minor": 2
}

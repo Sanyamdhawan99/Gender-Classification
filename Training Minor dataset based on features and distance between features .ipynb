{
 "cells": [
  {
   "cell_type": "code",
   "execution_count": 105,
   "metadata": {},
   "outputs": [],
   "source": [
    "import pandas as pd\n",
    "import numpy as np"
   ]
  },
  {
   "cell_type": "code",
   "execution_count": 106,
   "metadata": {},
   "outputs": [],
   "source": [
    "train_data = pd.read_csv(\"minor_training_data_large.csv\")\n",
    "test_data = pd.read_csv('minor_testing_data_large.csv')"
   ]
  },
  {
   "cell_type": "code",
   "execution_count": 107,
   "metadata": {},
   "outputs": [],
   "source": [
    "df = train_data.copy()\n",
    "df_test = test_data.copy()"
   ]
  },
  {
   "cell_type": "code",
   "execution_count": 108,
   "metadata": {},
   "outputs": [
    {
     "data": {
      "text/plain": [
       "bottom_lip_x       775\n",
       "bottom_lip_y       775\n",
       "chin_x             775\n",
       "chin_y             775\n",
       "left_eye_x         775\n",
       "left_eye_y         775\n",
       "left_eyebrow_x     775\n",
       "left_eyebrow_y     775\n",
       "nose_bridge_x      775\n",
       "nose_bridge_y      775\n",
       "nose_tip_x         775\n",
       "nose_tip_y         775\n",
       "right_eye_x        775\n",
       "right_eye_y        775\n",
       "right_eyebrow_x    775\n",
       "right_eyebrow_y    775\n",
       "top_lip_x          775\n",
       "top_lip_y          775\n",
       "Output               0\n",
       "dtype: int64"
      ]
     },
     "execution_count": 108,
     "metadata": {},
     "output_type": "execute_result"
    }
   ],
   "source": [
    "df.isnull().sum()"
   ]
  },
  {
   "cell_type": "code",
   "execution_count": 109,
   "metadata": {},
   "outputs": [
    {
     "name": "stdout",
     "output_type": "stream",
     "text": [
      "   bottom_lip_x  bottom_lip_y     chin_x      chin_y  left_eye_x  left_eye_y  \\\n",
      "0     85.583333    160.583333  96.529412  153.117647   68.833333  111.000000   \n",
      "1     85.500000    160.083333  94.294118  154.470588   68.833333  112.000000   \n",
      "2           NaN           NaN        NaN         NaN         NaN         NaN   \n",
      "3           NaN           NaN        NaN         NaN         NaN         NaN   \n",
      "4     87.583333    152.583333  92.000000  158.470588   65.666667  114.833333   \n",
      "\n",
      "   left_eyebrow_x  left_eyebrow_y  nose_bridge_x  nose_bridge_y  nose_tip_x  \\\n",
      "0            65.2            99.2          78.75         127.50        79.8   \n",
      "1            67.0           101.6          82.00         123.50        82.4   \n",
      "2             NaN             NaN            NaN            NaN         NaN   \n",
      "3             NaN             NaN            NaN            NaN         NaN   \n",
      "4            60.4            96.8          86.75         111.75        87.0   \n",
      "\n",
      "   nose_tip_y  right_eye_x  right_eye_y  right_eyebrow_x  right_eyebrow_y  \\\n",
      "0       145.8        105.5   115.500000            109.0            104.0   \n",
      "1       141.0        107.0   113.833333            108.2            103.8   \n",
      "2         NaN          NaN          NaN              NaN              NaN   \n",
      "3         NaN          NaN          NaN              NaN              NaN   \n",
      "4       131.0        111.0   113.166667            114.2             95.0   \n",
      "\n",
      "   top_lip_x   top_lip_y  Output  \n",
      "0  85.333333  153.833333       0  \n",
      "1  85.500000  151.416667       0  \n",
      "2        NaN         NaN       1  \n",
      "3        NaN         NaN       0  \n",
      "4  87.416667  146.250000       0  \n",
      "   bottom_lip_x  bottom_lip_y     chin_x      chin_y  left_eye_x  left_eye_y  \\\n",
      "0     84.833333    159.250000  95.529412  156.117647   70.833333  113.000000   \n",
      "1     87.500000    161.666667  96.647059  154.823529   70.000000  112.166667   \n",
      "2     89.166667    162.000000  88.470588  153.470588   67.833333  113.666667   \n",
      "3     85.166667    155.083333  92.000000  157.823529   69.166667  113.833333   \n",
      "4     84.500000    161.083333  93.941176  159.705882   71.166667  111.333333   \n",
      "\n",
      "   left_eyebrow_x  left_eyebrow_y  nose_bridge_x  nose_bridge_y  nose_tip_x  \\\n",
      "0            66.2            98.6          78.25         122.25        80.0   \n",
      "1            66.2           104.4          80.25         128.50        82.2   \n",
      "2            64.2           101.4          88.50         125.50        89.0   \n",
      "3            64.6           101.4          83.50         118.75        83.8   \n",
      "4            69.2            96.2          81.75         119.50        82.2   \n",
      "\n",
      "   nose_tip_y  right_eye_x  right_eye_y  right_eyebrow_x  right_eyebrow_y  \\\n",
      "0       140.0   105.666667   112.666667            108.0             97.6   \n",
      "1       145.6   106.500000   113.333333            107.4            105.4   \n",
      "2       143.4   108.166667   112.666667            111.0            100.8   \n",
      "3       135.8   108.833333   112.666667            111.6            100.0   \n",
      "4       137.8   106.333333   111.833333            106.2             97.0   \n",
      "\n",
      "   top_lip_x   top_lip_y  \n",
      "0  84.250000  152.083333  \n",
      "1  87.500000  153.250000  \n",
      "2  88.833333  151.833333  \n",
      "3  85.416667  147.500000  \n",
      "4  84.250000  150.333333  \n"
     ]
    }
   ],
   "source": [
    "print(df.head())\n",
    "print(df_test.head())"
   ]
  },
  {
   "cell_type": "code",
   "execution_count": 110,
   "metadata": {},
   "outputs": [],
   "source": [
    "# drop na\n",
    "df.dropna(inplace = True)"
   ]
  },
  {
   "cell_type": "code",
   "execution_count": 89,
   "metadata": {},
   "outputs": [],
   "source": [
    "df.bottom_lip_x.fillna(df.bottom_lip_x.mean(), inplace=True)\n",
    "df.bottom_lip_y.fillna(df.bottom_lip_y.mean(), inplace=True)\n",
    "df.chin_x.fillna(df.chin_x.mean(), inplace=True)\n",
    "df.chin_y.fillna(df.chin_y.mean(), inplace=True)\n",
    "df.left_eye_x.fillna(df.left_eye_x.mean(), inplace=True)\n",
    "df.left_eye_y.fillna(df.left_eye_y.mean(), inplace=True)\n",
    "df.left_eyebrow_x.fillna(df.left_eyebrow_x.mean(), inplace=True)\n",
    "df.left_eyebrow_y.fillna(df.left_eyebrow_y.mean(), inplace=True)\n",
    "df.nose_bridge_x.fillna(df.nose_bridge_x.mean(), inplace=True)\n",
    "df.nose_bridge_y.fillna(df.nose_bridge_y.mean(), inplace=True)\n",
    "df.nose_tip_x.fillna(df.nose_tip_x.mean(), inplace=True)\n",
    "df.nose_tip_y.fillna(df.nose_tip_y.mean(), inplace=True)\n",
    "df.right_eye_x.fillna(df.right_eye_x.mean(), inplace=True)\n",
    "df.right_eye_y.fillna(df.right_eye_y.mean(), inplace=True)\n",
    "df.right_eyebrow_x.fillna(df.right_eyebrow_x.mean(), inplace=True)\n",
    "df.right_eyebrow_y.fillna(df.right_eyebrow_y.mean(), inplace=True)\n",
    "df.top_lip_x.fillna(df.top_lip_x.mean(), inplace=True)\n",
    "df.top_lip_y.fillna(df.top_lip_y.mean(), inplace=True)"
   ]
  },
  {
   "cell_type": "code",
   "execution_count": 111,
   "metadata": {},
   "outputs": [],
   "source": [
    "df_test.bottom_lip_x.fillna(df.bottom_lip_x.mean(), inplace=True)\n",
    "df_test.bottom_lip_y.fillna(df.bottom_lip_y.mean(), inplace=True)\n",
    "df_test.chin_x.fillna(df.chin_x.mean(), inplace=True)\n",
    "df_test.chin_y.fillna(df.chin_y.mean(), inplace=True)\n",
    "df_test.left_eye_x.fillna(df.left_eye_x.mean(), inplace=True)\n",
    "df_test.left_eye_y.fillna(df.left_eye_y.mean(), inplace=True)\n",
    "df_test.left_eyebrow_x.fillna(df.left_eyebrow_x.mean(), inplace=True)\n",
    "df_test.left_eyebrow_y.fillna(df.left_eyebrow_y.mean(), inplace=True)\n",
    "df_test.nose_bridge_x.fillna(df.nose_bridge_x.mean(), inplace=True)\n",
    "df_test.nose_bridge_y.fillna(df.nose_bridge_y.mean(), inplace=True)\n",
    "df_test.nose_tip_x.fillna(df.nose_tip_x.mean(), inplace=True)\n",
    "df_test.nose_tip_y.fillna(df.nose_tip_y.mean(), inplace=True)\n",
    "df_test.right_eye_x.fillna(df.right_eye_x.mean(), inplace=True)\n",
    "df_test.right_eye_y.fillna(df.right_eye_y.mean(), inplace=True)\n",
    "df_test.right_eyebrow_x.fillna(df.right_eyebrow_x.mean(), inplace=True)\n",
    "df_test.right_eyebrow_y.fillna(df.right_eyebrow_y.mean(), inplace=True)\n",
    "df_test.top_lip_x.fillna(df.top_lip_x.mean(), inplace=True)\n",
    "df_test.top_lip_y.fillna(df.top_lip_y.mean(), inplace=True)"
   ]
  },
  {
   "cell_type": "code",
   "execution_count": 112,
   "metadata": {},
   "outputs": [],
   "source": [
    "# considering manhatten distances\n",
    "# eyebrows and eyes\n",
    "df[\"dist_right_eyebrow_to_right_eye\"] = abs(df.right_eyebrow_x - df.right_eye_x) + abs(df.right_eyebrow_y - df.right_eye_y)\n",
    "df[\"dist_right_eyebrow_to_left_eye\"] = abs(df.right_eyebrow_x - df.left_eye_x) + abs(df.right_eyebrow_y - df.left_eye_y)\n",
    "df[\"dist_left_eyebrow_to_right_eye\"] = abs(df.left_eyebrow_x - df.right_eye_x) + abs(df.left_eyebrow_y - df.right_eye_y)\n",
    "df[\"dist_left_eyebrow_to_left_eye\"] = abs(df.left_eyebrow_x - df.left_eye_x) + abs(df.left_eyebrow_y - df.left_eye_y)\n",
    "\n",
    "# eyebrows and nose tip\n",
    "df[\"dist_right_eyebrow_to_nose_tip\"] = abs(df.right_eyebrow_x - df.nose_tip_x) + abs(df.right_eyebrow_y - df.nose_tip_y)\n",
    "df[\"dist_left_eyebrow_to_nose_tip\"] = abs(df.left_eyebrow_x - df.nose_tip_x) + abs(df.left_eyebrow_y - df.nose_tip_y)\n",
    "\n",
    "# nose tip to lips\n",
    "df[\"dist_top_lip_to_nose_tip\"] = abs(df.top_lip_x - df.nose_tip_x) + abs(df.top_lip_y - df.nose_tip_y)\n",
    "df[\"dist_bottom_lip_to_nose_tip\"] = abs(df.bottom_lip_x - df.nose_tip_x) + abs(df.bottom_lip_y - df.nose_tip_y)\n",
    "\n",
    "# eyes to lips\n",
    "df[\"dist_top_lip_to_right_eye\"] = abs(df.top_lip_x - df.right_eye_x) + abs(df.top_lip_y - df.right_eye_y)\n",
    "df[\"dist_top_lip_to_left_eye\"] = abs(df.top_lip_x - df.left_eye_x) + abs(df.top_lip_y - df.left_eye_y)\n",
    "df[\"dist_bottom_lip_to_right_eye\"] = abs(df.bottom_lip_x - df.right_eye_x) + abs(df.bottom_lip_y - df.right_eye_y)\n",
    "df[\"dist_bottom_lip_to_left_eye\"] = abs(df.bottom_lip_x - df.left_eye_x) + abs(df.bottom_lip_y - df.left_eye_y)\n",
    "\n",
    "# left eye to right eye\n",
    "df[\"dist_left_eye_to_right_eye\"] = abs(df.left_eye_x - df.right_eye_x) + abs(df.left_eye_y - df.right_eye_y)\n",
    "\n",
    "# nose bridge and nose tip\n",
    "df[\"dist_nose_bridge_to_nose_tip\"] = abs(df.nose_bridge_x - df.nose_tip_x) + abs(df.nose_bridge_y - df.nose_tip_y)\n",
    "\n",
    "# top lip and bottom lip\n",
    "df[\"dist_top_lip_to_bottom_lip\"] = abs(df.top_lip_x - df.bottom_lip_x) + abs(df.top_lip_y - df.bottom_lip_y)\n",
    "\n",
    "# chin and bottom lip\n",
    "df[\"dist_chin_to_bottom_lip\"] = abs(df.chin_x - df.bottom_lip_x) + abs(df.chin_y - df.bottom_lip_y)\n",
    "\n",
    "# chin and top lip\n",
    "df[\"dist_chin_to_top_lip\"] = abs(df.chin_x - df.top_lip_x) + abs(df.chin_y - df.top_lip_y)"
   ]
  },
  {
   "cell_type": "code",
   "execution_count": 113,
   "metadata": {},
   "outputs": [],
   "source": [
    "# eyebrows and eyes\n",
    "df_test[\"dist_right_eyebrow_to_right_eye\"] = abs(df_test.right_eyebrow_x - df_test.right_eye_x) + abs(df_test.right_eyebrow_y - df_test.right_eye_y)\n",
    "df_test[\"dist_right_eyebrow_to_left_eye\"] = abs(df_test.right_eyebrow_x - df_test.left_eye_x) + abs(df_test.right_eyebrow_y - df_test.left_eye_y)\n",
    "df_test[\"dist_left_eyebrow_to_right_eye\"] = abs(df_test.left_eyebrow_x - df_test.right_eye_x) + abs(df_test.left_eyebrow_y - df_test.right_eye_y)\n",
    "df_test[\"dist_left_eyebrow_to_left_eye\"] = abs(df_test.left_eyebrow_x - df_test.left_eye_x) + abs(df_test.left_eyebrow_y - df_test.left_eye_y)\n",
    "\n",
    "# eyebrows and nose tip\n",
    "df_test[\"dist_right_eyebrow_to_nose_tip\"] = abs(df_test.right_eyebrow_x - df_test.nose_tip_x) + abs(df_test.right_eyebrow_y - df_test.nose_tip_y)\n",
    "df_test[\"dist_left_eyebrow_to_nose_tip\"] = abs(df_test.left_eyebrow_x - df_test.nose_tip_x) + abs(df_test.left_eyebrow_y - df_test.nose_tip_y)\n",
    "\n",
    "# nose tip to lips\n",
    "df_test[\"dist_top_lip_to_nose_tip\"] = abs(df_test.top_lip_x - df_test.nose_tip_x) + abs(df_test.top_lip_y - df_test.nose_tip_y)\n",
    "df_test[\"dist_bottom_lip_to_nose_tip\"] = abs(df_test.bottom_lip_x - df_test.nose_tip_x) + abs(df_test.bottom_lip_y - df_test.nose_tip_y)\n",
    "\n",
    "# eyes to lips\n",
    "df_test[\"dist_top_lip_to_right_eye\"] = abs(df_test.top_lip_x - df_test.right_eye_x) + abs(df_test.top_lip_y - df_test.right_eye_y)\n",
    "df_test[\"dist_top_lip_to_left_eye\"] = abs(df_test.top_lip_x - df_test.left_eye_x) + abs(df_test.top_lip_y - df_test.left_eye_y)\n",
    "df_test[\"dist_bottom_lip_to_right_eye\"] = abs(df_test.bottom_lip_x - df_test.right_eye_x) + abs(df_test.bottom_lip_y - df_test.right_eye_y)\n",
    "df_test[\"dist_bottom_lip_to_left_eye\"] = abs(df_test.bottom_lip_x - df_test.left_eye_x) + abs(df_test.bottom_lip_y - df_test.left_eye_y)\n",
    "\n",
    "# left eye to right eye\n",
    "df_test[\"dist_left_eye_to_right_eye\"] = abs(df_test.left_eye_x - df_test.right_eye_x) + abs(df_test.left_eye_y - df_test.right_eye_y)\n",
    "\n",
    "# nose bridge and nose tip\n",
    "df_test[\"dist_nose_bridge_to_nose_tip\"] = abs(df_test.nose_bridge_x - df_test.nose_tip_x) + abs(df_test.nose_bridge_y - df_test.nose_tip_y)\n",
    "\n",
    "# top lip and bottom lip\n",
    "df_test[\"dist_top_lip_to_bottom_lip\"] = abs(df_test.top_lip_x - df_test.bottom_lip_x) + abs(df_test.top_lip_y - df_test.bottom_lip_y)\n",
    "\n",
    "# chin and bottom lip\n",
    "df_test[\"dist_chin_to_bottom_lip\"] = abs(df_test.chin_x - df_test.bottom_lip_x) + abs(df_test.chin_y - df_test.bottom_lip_y)\n",
    "\n",
    "# chin and top lip\n",
    "df_test[\"dist_chin_to_top_lip\"] = abs(df_test.chin_x - df_test.top_lip_x) + abs(df_test.chin_y - df_test.top_lip_y)"
   ]
  },
  {
   "cell_type": "code",
   "execution_count": 114,
   "metadata": {},
   "outputs": [],
   "source": [
    "df[\"gender\"] = df.Output\n",
    "del df[\"Output\"]"
   ]
  },
  {
   "cell_type": "code",
   "execution_count": 115,
   "metadata": {},
   "outputs": [
    {
     "data": {
      "text/plain": [
       "(26225, 36)"
      ]
     },
     "execution_count": 115,
     "metadata": {},
     "output_type": "execute_result"
    }
   ],
   "source": [
    "df.shape"
   ]
  },
  {
   "cell_type": "code",
   "execution_count": 116,
   "metadata": {},
   "outputs": [
    {
     "data": {
      "text/html": [
       "<div>\n",
       "<style scoped>\n",
       "    .dataframe tbody tr th:only-of-type {\n",
       "        vertical-align: middle;\n",
       "    }\n",
       "\n",
       "    .dataframe tbody tr th {\n",
       "        vertical-align: top;\n",
       "    }\n",
       "\n",
       "    .dataframe thead th {\n",
       "        text-align: right;\n",
       "    }\n",
       "</style>\n",
       "<table border=\"1\" class=\"dataframe\">\n",
       "  <thead>\n",
       "    <tr style=\"text-align: right;\">\n",
       "      <th></th>\n",
       "      <th>bottom_lip_x</th>\n",
       "      <th>bottom_lip_y</th>\n",
       "      <th>chin_x</th>\n",
       "      <th>chin_y</th>\n",
       "      <th>left_eye_x</th>\n",
       "      <th>left_eye_y</th>\n",
       "      <th>left_eyebrow_x</th>\n",
       "      <th>left_eyebrow_y</th>\n",
       "      <th>nose_bridge_x</th>\n",
       "      <th>nose_bridge_y</th>\n",
       "      <th>...</th>\n",
       "      <th>dist_top_lip_to_right_eye</th>\n",
       "      <th>dist_top_lip_to_left_eye</th>\n",
       "      <th>dist_bottom_lip_to_right_eye</th>\n",
       "      <th>dist_bottom_lip_to_left_eye</th>\n",
       "      <th>dist_left_eye_to_right_eye</th>\n",
       "      <th>dist_nose_bridge_to_nose_tip</th>\n",
       "      <th>dist_top_lip_to_bottom_lip</th>\n",
       "      <th>dist_chin_to_bottom_lip</th>\n",
       "      <th>dist_chin_to_top_lip</th>\n",
       "      <th>gender</th>\n",
       "    </tr>\n",
       "  </thead>\n",
       "  <tbody>\n",
       "    <tr>\n",
       "      <th>26994</th>\n",
       "      <td>87.833333</td>\n",
       "      <td>154.416667</td>\n",
       "      <td>84.941176</td>\n",
       "      <td>159.647059</td>\n",
       "      <td>67.500000</td>\n",
       "      <td>111.833333</td>\n",
       "      <td>63.8</td>\n",
       "      <td>101.4</td>\n",
       "      <td>90.25</td>\n",
       "      <td>120.25</td>\n",
       "      <td>...</td>\n",
       "      <td>58.833333</td>\n",
       "      <td>60.666667</td>\n",
       "      <td>61.583333</td>\n",
       "      <td>62.916667</td>\n",
       "      <td>43.666667</td>\n",
       "      <td>20.00</td>\n",
       "      <td>2.750000</td>\n",
       "      <td>8.122549</td>\n",
       "      <td>10.872549</td>\n",
       "      <td>1</td>\n",
       "    </tr>\n",
       "    <tr>\n",
       "      <th>26995</th>\n",
       "      <td>87.916667</td>\n",
       "      <td>154.416667</td>\n",
       "      <td>89.823529</td>\n",
       "      <td>158.941176</td>\n",
       "      <td>66.666667</td>\n",
       "      <td>115.666667</td>\n",
       "      <td>63.2</td>\n",
       "      <td>102.0</td>\n",
       "      <td>84.25</td>\n",
       "      <td>115.50</td>\n",
       "      <td>...</td>\n",
       "      <td>54.916667</td>\n",
       "      <td>52.416667</td>\n",
       "      <td>61.833333</td>\n",
       "      <td>60.000000</td>\n",
       "      <td>44.333333</td>\n",
       "      <td>19.45</td>\n",
       "      <td>7.583333</td>\n",
       "      <td>6.431373</td>\n",
       "      <td>14.014706</td>\n",
       "      <td>0</td>\n",
       "    </tr>\n",
       "    <tr>\n",
       "      <th>26996</th>\n",
       "      <td>89.916667</td>\n",
       "      <td>157.000000</td>\n",
       "      <td>76.117647</td>\n",
       "      <td>145.941176</td>\n",
       "      <td>71.333333</td>\n",
       "      <td>112.166667</td>\n",
       "      <td>71.6</td>\n",
       "      <td>98.8</td>\n",
       "      <td>96.25</td>\n",
       "      <td>123.75</td>\n",
       "      <td>...</td>\n",
       "      <td>56.333333</td>\n",
       "      <td>59.000000</td>\n",
       "      <td>62.750000</td>\n",
       "      <td>63.416667</td>\n",
       "      <td>36.500000</td>\n",
       "      <td>19.70</td>\n",
       "      <td>6.416667</td>\n",
       "      <td>24.857843</td>\n",
       "      <td>20.441176</td>\n",
       "      <td>0</td>\n",
       "    </tr>\n",
       "    <tr>\n",
       "      <th>26998</th>\n",
       "      <td>85.083333</td>\n",
       "      <td>161.916667</td>\n",
       "      <td>95.352941</td>\n",
       "      <td>155.529412</td>\n",
       "      <td>66.166667</td>\n",
       "      <td>110.833333</td>\n",
       "      <td>62.8</td>\n",
       "      <td>94.6</td>\n",
       "      <td>79.75</td>\n",
       "      <td>123.50</td>\n",
       "      <td>...</td>\n",
       "      <td>65.083333</td>\n",
       "      <td>59.583333</td>\n",
       "      <td>74.666667</td>\n",
       "      <td>70.000000</td>\n",
       "      <td>46.166667</td>\n",
       "      <td>20.35</td>\n",
       "      <td>10.416667</td>\n",
       "      <td>16.656863</td>\n",
       "      <td>14.299020</td>\n",
       "      <td>0</td>\n",
       "    </tr>\n",
       "    <tr>\n",
       "      <th>26999</th>\n",
       "      <td>94.083333</td>\n",
       "      <td>161.000000</td>\n",
       "      <td>80.235294</td>\n",
       "      <td>156.647059</td>\n",
       "      <td>69.333333</td>\n",
       "      <td>113.666667</td>\n",
       "      <td>67.0</td>\n",
       "      <td>102.0</td>\n",
       "      <td>99.75</td>\n",
       "      <td>118.75</td>\n",
       "      <td>...</td>\n",
       "      <td>51.833333</td>\n",
       "      <td>61.000000</td>\n",
       "      <td>63.083333</td>\n",
       "      <td>72.083333</td>\n",
       "      <td>40.500000</td>\n",
       "      <td>19.80</td>\n",
       "      <td>11.250000</td>\n",
       "      <td>18.200980</td>\n",
       "      <td>20.745098</td>\n",
       "      <td>0</td>\n",
       "    </tr>\n",
       "  </tbody>\n",
       "</table>\n",
       "<p>5 rows × 36 columns</p>\n",
       "</div>"
      ],
      "text/plain": [
       "       bottom_lip_x  bottom_lip_y     chin_x      chin_y  left_eye_x  \\\n",
       "26994     87.833333    154.416667  84.941176  159.647059   67.500000   \n",
       "26995     87.916667    154.416667  89.823529  158.941176   66.666667   \n",
       "26996     89.916667    157.000000  76.117647  145.941176   71.333333   \n",
       "26998     85.083333    161.916667  95.352941  155.529412   66.166667   \n",
       "26999     94.083333    161.000000  80.235294  156.647059   69.333333   \n",
       "\n",
       "       left_eye_y  left_eyebrow_x  left_eyebrow_y  nose_bridge_x  \\\n",
       "26994  111.833333            63.8           101.4          90.25   \n",
       "26995  115.666667            63.2           102.0          84.25   \n",
       "26996  112.166667            71.6            98.8          96.25   \n",
       "26998  110.833333            62.8            94.6          79.75   \n",
       "26999  113.666667            67.0           102.0          99.75   \n",
       "\n",
       "       nose_bridge_y   ...    dist_top_lip_to_right_eye  \\\n",
       "26994         120.25   ...                    58.833333   \n",
       "26995         115.50   ...                    54.916667   \n",
       "26996         123.75   ...                    56.333333   \n",
       "26998         123.50   ...                    65.083333   \n",
       "26999         118.75   ...                    51.833333   \n",
       "\n",
       "       dist_top_lip_to_left_eye  dist_bottom_lip_to_right_eye  \\\n",
       "26994                 60.666667                     61.583333   \n",
       "26995                 52.416667                     61.833333   \n",
       "26996                 59.000000                     62.750000   \n",
       "26998                 59.583333                     74.666667   \n",
       "26999                 61.000000                     63.083333   \n",
       "\n",
       "       dist_bottom_lip_to_left_eye  dist_left_eye_to_right_eye  \\\n",
       "26994                    62.916667                   43.666667   \n",
       "26995                    60.000000                   44.333333   \n",
       "26996                    63.416667                   36.500000   \n",
       "26998                    70.000000                   46.166667   \n",
       "26999                    72.083333                   40.500000   \n",
       "\n",
       "       dist_nose_bridge_to_nose_tip  dist_top_lip_to_bottom_lip  \\\n",
       "26994                         20.00                    2.750000   \n",
       "26995                         19.45                    7.583333   \n",
       "26996                         19.70                    6.416667   \n",
       "26998                         20.35                   10.416667   \n",
       "26999                         19.80                   11.250000   \n",
       "\n",
       "       dist_chin_to_bottom_lip  dist_chin_to_top_lip  gender  \n",
       "26994                 8.122549             10.872549       1  \n",
       "26995                 6.431373             14.014706       0  \n",
       "26996                24.857843             20.441176       0  \n",
       "26998                16.656863             14.299020       0  \n",
       "26999                18.200980             20.745098       0  \n",
       "\n",
       "[5 rows x 36 columns]"
      ]
     },
     "execution_count": 116,
     "metadata": {},
     "output_type": "execute_result"
    }
   ],
   "source": [
    "df.tail()"
   ]
  },
  {
   "cell_type": "code",
   "execution_count": 117,
   "metadata": {},
   "outputs": [
    {
     "data": {
      "text/plain": [
       "(26225, 35)"
      ]
     },
     "execution_count": 117,
     "metadata": {},
     "output_type": "execute_result"
    }
   ],
   "source": [
    "X = df.iloc[:, :35]\n",
    "X.shape"
   ]
  },
  {
   "cell_type": "code",
   "execution_count": 118,
   "metadata": {},
   "outputs": [
    {
     "data": {
      "text/plain": [
       "(26225,)"
      ]
     },
     "execution_count": 118,
     "metadata": {},
     "output_type": "execute_result"
    }
   ],
   "source": [
    "Y = df.iloc[:, 35]\n",
    "Y.shape"
   ]
  },
  {
   "cell_type": "code",
   "execution_count": 119,
   "metadata": {},
   "outputs": [],
   "source": [
    "# import Logistic Regression\n",
    "from sklearn.linear_model import LogisticRegression"
   ]
  },
  {
   "cell_type": "code",
   "execution_count": 120,
   "metadata": {},
   "outputs": [],
   "source": [
    "clf = LogisticRegression()"
   ]
  },
  {
   "cell_type": "code",
   "execution_count": 121,
   "metadata": {},
   "outputs": [
    {
     "data": {
      "text/plain": [
       "LogisticRegression(C=1.0, class_weight=None, dual=False, fit_intercept=True,\n",
       "          intercept_scaling=1, max_iter=100, multi_class='ovr', n_jobs=1,\n",
       "          penalty='l2', random_state=None, solver='liblinear', tol=0.0001,\n",
       "          verbose=0, warm_start=False)"
      ]
     },
     "execution_count": 121,
     "metadata": {},
     "output_type": "execute_result"
    }
   ],
   "source": [
    "clf.fit(X, Y)"
   ]
  },
  {
   "cell_type": "code",
   "execution_count": 122,
   "metadata": {},
   "outputs": [
    {
     "data": {
      "text/plain": [
       "(10000,)"
      ]
     },
     "execution_count": 122,
     "metadata": {},
     "output_type": "execute_result"
    }
   ],
   "source": [
    "pred = clf.predict(df_test)\n",
    "pred.shape"
   ]
  },
  {
   "cell_type": "code",
   "execution_count": 123,
   "metadata": {},
   "outputs": [],
   "source": [
    "np.savetxt(\"minor_gender_with_features_and_differences_predicted.csv\", pred, fmt = \"%d\", delimiter=\",\")"
   ]
  },
  {
   "cell_type": "code",
   "execution_count": 124,
   "metadata": {},
   "outputs": [
    {
     "data": {
      "text/plain": [
       "(10000,)"
      ]
     },
     "execution_count": 124,
     "metadata": {},
     "output_type": "execute_result"
    }
   ],
   "source": [
    "Y_test = pd.read_csv('Minor_test_output.csv')\n",
    "#Y_test = pd.read_csv('minor_training_data_large.csv')\n",
    "test = Y_test.iloc[:, 0]\n",
    "test.shape"
   ]
  },
  {
   "cell_type": "code",
   "execution_count": 125,
   "metadata": {},
   "outputs": [
    {
     "data": {
      "text/plain": [
       "2211"
      ]
     },
     "execution_count": 125,
     "metadata": {},
     "output_type": "execute_result"
    }
   ],
   "source": [
    "(abs(pred - test)).sum()"
   ]
  },
  {
   "cell_type": "code",
   "execution_count": 126,
   "metadata": {},
   "outputs": [
    {
     "data": {
      "text/plain": [
       "0.7799"
      ]
     },
     "execution_count": 126,
     "metadata": {},
     "output_type": "execute_result"
    }
   ],
   "source": [
    "clf.score(df_test, test)"
   ]
  },
  {
   "cell_type": "code",
   "execution_count": 80,
   "metadata": {},
   "outputs": [
    {
     "data": {
      "text/plain": [
       "(10000,)"
      ]
     },
     "execution_count": 80,
     "metadata": {},
     "output_type": "execute_result"
    }
   ],
   "source": [
    "# SVM\n",
    "from sklearn.svm import SVC\n",
    "SVCLinear = SVC(kernel='linear', C = 10).fit(X,Y)\n",
    "pred_svm = SVCLinear.predict(df_test)\n",
    "pred_svm.shape"
   ]
  },
  {
   "cell_type": "code",
   "execution_count": 81,
   "metadata": {},
   "outputs": [
    {
     "data": {
      "text/plain": [
       "0.7794"
      ]
     },
     "execution_count": 81,
     "metadata": {},
     "output_type": "execute_result"
    }
   ],
   "source": [
    "SVCLinear.score(df_test, test)"
   ]
  },
  {
   "cell_type": "code",
   "execution_count": 82,
   "metadata": {},
   "outputs": [],
   "source": [
    "from sklearn.neural_network import MLPClassifier\n",
    "clf_mlp = MLPClassifier(solver='lbfgs', alpha=1e-5, hidden_layer_sizes=(400, 1000), random_state=1)"
   ]
  },
  {
   "cell_type": "code",
   "execution_count": 83,
   "metadata": {},
   "outputs": [
    {
     "data": {
      "text/plain": [
       "0.7732"
      ]
     },
     "execution_count": 83,
     "metadata": {},
     "output_type": "execute_result"
    }
   ],
   "source": [
    "clf_mlp.fit(X,Y)\n",
    "pred_mlp = clf_mlp.predict(df_test)\n",
    "clf_mlp.score(df_test, test)"
   ]
  },
  {
   "cell_type": "code",
   "execution_count": null,
   "metadata": {},
   "outputs": [],
   "source": [
    "import matplotlib.pyplot as plt"
   ]
  },
  {
   "cell_type": "code",
   "execution_count": null,
   "metadata": {},
   "outputs": [],
   "source": [
    "plt.plot(df, Y, color=\"blue\")"
   ]
  },
  {
   "cell_type": "code",
   "execution_count": null,
   "metadata": {},
   "outputs": [],
   "source": [
    "plt.plot(df_test, test, color=\"blue\")\n",
    "plt.plot(df_test, pred, color=\"red\")"
   ]
  },
  {
   "cell_type": "code",
   "execution_count": null,
   "metadata": {},
   "outputs": [],
   "source": [
    "x_line = np.arange(0, 2000, 1)\n",
    "plt.plot(x_line, test,color=\"blue\")\n",
    "plt.plot(x_line, pred, color=\"red\")"
   ]
  },
  {
   "cell_type": "code",
   "execution_count": null,
   "metadata": {},
   "outputs": [],
   "source": []
  }
 ],
 "metadata": {
  "kernelspec": {
   "display_name": "Python 3",
   "language": "python",
   "name": "python3"
  },
  "language_info": {
   "codemirror_mode": {
    "name": "ipython",
    "version": 3
   },
   "file_extension": ".py",
   "mimetype": "text/x-python",
   "name": "python",
   "nbconvert_exporter": "python",
   "pygments_lexer": "ipython3",
   "version": "3.6.5"
  }
 },
 "nbformat": 4,
 "nbformat_minor": 2
}
